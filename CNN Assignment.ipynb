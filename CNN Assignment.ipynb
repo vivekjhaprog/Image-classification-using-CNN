{
 "cells": [
  {
   "cell_type": "code",
   "execution_count": 11,
   "metadata": {},
   "outputs": [],
   "source": [
    "from keras.models import Sequential\n",
    "from keras.layers import Dense\n",
    "from keras.layers import Conv2D, MaxPool2D, Flatten\n",
    "import os\n",
    "import numpy as np\n",
    "import pandas as pd\n",
    "from keras.preprocessing.image import ImageDataGenerator\n",
    "from keras.preprocessing import image"
   ]
  },
  {
   "cell_type": "code",
   "execution_count": 2,
   "metadata": {},
   "outputs": [],
   "source": [
    "classifier = Sequential()\n",
    "\n",
    "# convolution layer - 32 feature detectors\n",
    "classifier.add(Conv2D(32, 3, input_shape=(64, 64, 3), activation='relu'))\n",
    "\n",
    "# max pooling layer - of 2x2 shape\n",
    "classifier.add(MaxPool2D(pool_size=(2, 2)))\n",
    "\n",
    "# another convolution layer\n",
    "classifier.add(Conv2D(32, 3, activation='relu'))\n",
    "\n",
    "# another max pooling layer\n",
    "classifier.add(MaxPool2D(pool_size=(2, 2)))\n",
    "\n",
    "# flattening layer\n",
    "classifier.add(Flatten())\n",
    "\n",
    "# fully connected layer\n",
    "classifier.add(Dense(units=128, activation='relu'))\n",
    "\n",
    "# output layer\n",
    "classifier.add(Dense(units=4, activation='softmax'))"
   ]
  },
  {
   "cell_type": "code",
   "execution_count": 3,
   "metadata": {},
   "outputs": [],
   "source": [
    "classifier.compile(optimizer='adam', loss='categorical_crossentropy', metrics=['accuracy'])"
   ]
  },
  {
   "cell_type": "code",
   "execution_count": null,
   "metadata": {},
   "outputs": [],
   "source": [
    "train_datagen = ImageDataGenerator(rescale=1./255,\n",
    "                                   shear_range=0.2,\n",
    "                                    zoom_range=0.2,\n",
    "                                    horizontal_flip=True)\n",
    "test_datagen = ImageDataGenerator(rescale=1./255)\n",
    "\n",
    "training_set = train_datagen.flow_from_directory(\"C:/Users/vivek jha/Documents/CNN_assignment/Dataset/train\",\n",
    "                                                target_size=(64, 64),\n",
    "                                                batch_size=32,\n",
    "                                                class_mode='categorical'\n",
    "                                                )\n",
    "\n",
    "validation_set = test_datagen.flow_from_directory(\"drive/My Drive/CNN assignment/Dataset/Validate\",\n",
    "                                              target_size=(64, 64),\n",
    "                                              batch_size=32,\n",
    "                                              class_mode='categorical')"
   ]
  },
  {
   "cell_type": "code",
   "execution_count": 7,
   "metadata": {},
   "outputs": [],
   "source": [
    "from keras.callbacks import ModelCheckpoint\n",
    "\n",
    "filepath = \"C:/Users/vivek jha/Documents/CNN_assignment/Dataset/saved_model/weights-improvement-{epoch:02d}-{loss: .4f}.hdf5\"\n",
    "checkpoint = ModelCheckpoint(filepath, monitor='loss', verbose=1, save_best_only=True, mode='min')\n",
    "callbacks_list = [checkpoint]"
   ]
  },
  {
   "cell_type": "code",
   "execution_count": null,
   "metadata": {},
   "outputs": [],
   "source": [
    "classifier.fit_generator(training_set,\n",
    "                         steps_per_epoch=360,                         \n",
    "                         epochs=50,                                 \n",
    "                         validation_data=validation_set,\n",
    "                         validation_steps=80,\n",
    "                         callbacks=callbacks_list)                             "
   ]
  },
  {
   "cell_type": "code",
   "execution_count": 8,
   "metadata": {
    "scrolled": true
   },
   "outputs": [],
   "source": [
    "#Loading Epoch 9/50\n",
    "#360/360 [==============================] - 190s 528ms/step - loss: 1.2399e-05 - accuracy: 1.0000 - val_loss: 1.7182e-04 - val_accuracy: 0.9751\n",
    "\n",
    "classifier.load_weights(\"C:/Users/vivek jha/Documents/CNN_assignment/Dataset/saved_model/weights-improvement-09- 0.0000.hdf5\")"
   ]
  },
  {
   "cell_type": "code",
   "execution_count": 9,
   "metadata": {},
   "outputs": [
    {
     "data": {
      "text/plain": [
       "(1, 64, 64, 3)"
      ]
     },
     "execution_count": 9,
     "metadata": {},
     "output_type": "execute_result"
    }
   ],
   "source": [
    "folder_path =  \"C:/Users/vivek jha/Documents/CNN_assignment/Dataset/test\"\n",
    "\n",
    "images = []\n",
    "for img in os.listdir(folder_path):\n",
    "    img = os.path.join(folder_path, img)\n",
    "    img = image.load_img(img, target_size=(64, 64))\n",
    "    img = image.img_to_array(img)\n",
    "    img = np.expand_dims(img, axis=0)\n",
    "    images.append(img)\n",
    "images[0].shape"
   ]
  },
  {
   "cell_type": "code",
   "execution_count": 14,
   "metadata": {},
   "outputs": [],
   "source": [
    "image=[]\n",
    "predicted=[]\n",
    "for img in range(30):\n",
    "    classes=classifier.predict_classes(images[img])\n",
    "    image.append(os.listdir(folder_path))\n",
    "    predicted.append(classes+1)\n",
    "    dict={\"image_id\":image[img],\"predicted_labels\":predicted}\n",
    "data=pd.DataFrame(dict)\n",
    "data.to_csv(\"result.csv\",index=False)"
   ]
  },
  {
   "cell_type": "code",
   "execution_count": null,
   "metadata": {},
   "outputs": [],
   "source": []
  }
 ],
 "metadata": {
  "kernelspec": {
   "display_name": "Python 3",
   "language": "python",
   "name": "python3"
  },
  "language_info": {
   "codemirror_mode": {
    "name": "ipython",
    "version": 3
   },
   "file_extension": ".py",
   "mimetype": "text/x-python",
   "name": "python",
   "nbconvert_exporter": "python",
   "pygments_lexer": "ipython3",
   "version": "3.7.3"
  }
 },
 "nbformat": 4,
 "nbformat_minor": 2
}
